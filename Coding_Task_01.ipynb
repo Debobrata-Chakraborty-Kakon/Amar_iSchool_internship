{
  "nbformat": 4,
  "nbformat_minor": 0,
  "metadata": {
    "colab": {
      "name": "Coding Task 01.ipynb",
      "provenance": [],
      "authorship_tag": "ABX9TyOc6/4kV3Sf2+rZJ2tHkzab",
      "include_colab_link": true
    },
    "kernelspec": {
      "name": "python3",
      "display_name": "Python 3"
    },
    "language_info": {
      "name": "python"
    },
    "accelerator": "GPU"
  },
  "cells": [
    {
      "cell_type": "markdown",
      "metadata": {
        "id": "view-in-github",
        "colab_type": "text"
      },
      "source": [
        "<a href=\"https://colab.research.google.com/github/Debobrata-Chakraborty-Kakon/Amar_iSchool_internship/blob/main/Coding_Task_01.ipynb\" target=\"_parent\"><img src=\"https://colab.research.google.com/assets/colab-badge.svg\" alt=\"Open In Colab\"/></a>"
      ]
    },
    {
      "cell_type": "code",
      "metadata": {
        "id": "9SYfgO8UVZg2"
      },
      "source": [
        "import numpy as np\n",
        "import matplotlib.pyplot as plt\n",
        "\n"
      ],
      "execution_count": 15,
      "outputs": []
    },
    {
      "cell_type": "markdown",
      "metadata": {
        "id": "-i2P-5bhhFsr"
      },
      "source": [
        "## Sigmoid Activation Function"
      ]
    },
    {
      "cell_type": "code",
      "metadata": {
        "id": "Hi5QeLLCZrP_"
      },
      "source": [
        "def sigmoid(X):\n",
        "   return 1/(1+np.exp(-X))"
      ],
      "execution_count": 16,
      "outputs": []
    },
    {
      "cell_type": "markdown",
      "metadata": {
        "id": "zHl9DymohOsB"
      },
      "source": [
        "## Relu Activation Function"
      ]
    },
    {
      "cell_type": "code",
      "metadata": {
        "id": "3FVkNkvOZtc4"
      },
      "source": [
        "def relu(X):\n",
        "   return np.maximum(0,X)"
      ],
      "execution_count": 17,
      "outputs": []
    },
    {
      "cell_type": "markdown",
      "metadata": {
        "id": "8vrjTtHKhUtZ"
      },
      "source": [
        "# X & Y Initialization"
      ]
    },
    {
      "cell_type": "code",
      "metadata": {
        "colab": {
          "base_uri": "https://localhost:8080/"
        },
        "id": "J80QfCTNZyUf",
        "outputId": "218e7f29-dac3-4172-883a-252d7e469e69"
      },
      "source": [
        "X = np.random.randn(2, 3)\n",
        "print(X)\n",
        "Y = np.random.randn(1, 3)\n",
        "print(Y)"
      ],
      "execution_count": 18,
      "outputs": [
        {
          "output_type": "stream",
          "name": "stdout",
          "text": [
            "[[-1.76018414  1.78320756  0.42732463]\n",
            " [ 1.56088478 -0.44842032 -1.64391169]]\n",
            "[[0.61102213 2.3192029  0.16848785]]\n"
          ]
        }
      ]
    },
    {
      "cell_type": "markdown",
      "metadata": {
        "id": "qCYehPLPcwTF"
      },
      "source": [
        "# Layers"
      ]
    },
    {
      "cell_type": "code",
      "metadata": {
        "colab": {
          "base_uri": "https://localhost:8080/"
        },
        "id": "mz1AiKDuaCKP",
        "outputId": "e6e37e42-8103-49f0-d5b9-9ff621376bcf"
      },
      "source": [
        "n_x=X.shape[0]\n",
        "n_h=4\n",
        "n_y=Y.shape[0]\n",
        "\n",
        "print(\"The size of the input layer is: n_x = \" + str(n_x))\n",
        "print(\"The size of the hidden layer is: n_h = \" + str(n_h))\n",
        "print(\"The size of the output layer is: n_y = \" + str(n_y))"
      ],
      "execution_count": 19,
      "outputs": [
        {
          "output_type": "stream",
          "name": "stdout",
          "text": [
            "The size of the input layer is: n_x = 2\n",
            "The size of the hidden layer is: n_h = 4\n",
            "The size of the output layer is: n_y = 1\n"
          ]
        }
      ]
    },
    {
      "cell_type": "markdown",
      "metadata": {
        "id": "As9DbvMlc3cy"
      },
      "source": [
        "# Weights and baises"
      ]
    },
    {
      "cell_type": "code",
      "metadata": {
        "id": "Vg5qg3AHaebz",
        "colab": {
          "base_uri": "https://localhost:8080/"
        },
        "outputId": "54ea4d86-541c-468f-caf6-b561bd3f903c"
      },
      "source": [
        "W1=np.random.randn(n_h,n_x) * 0.01\n",
        "b1=np.zeros((n_h,1))\n",
        "W2=np.random.randn(n_y,n_h) * 0.01\n",
        "b2=np.zeros((n_y,1))\n",
        "    \n",
        "    \n",
        "\n",
        "parameters = {\"W1\": W1,\n",
        "              \"b1\": b1,\n",
        "              \"W2\": W2,\n",
        "              \"b2\": b2}\n",
        "\n",
        "print(\"W1 = \" + str(parameters[\"W1\"]))\n",
        "print(\"b1 = \" + str(parameters[\"b1\"]))\n",
        "print(\"W2 = \" + str(parameters[\"W2\"]))\n",
        "print(\"b2 = \" + str(parameters[\"b2\"]))\n"
      ],
      "execution_count": 20,
      "outputs": [
        {
          "output_type": "stream",
          "name": "stdout",
          "text": [
            "W1 = [[ 0.00169266 -0.00329736]\n",
            " [-0.00389572  0.01215722]\n",
            " [-0.01347648  0.0067537 ]\n",
            " [-0.0009804   0.00246381]]\n",
            "b1 = [[0.]\n",
            " [0.]\n",
            " [0.]\n",
            " [0.]]\n",
            "W2 = [[-0.00146191 -0.00687526 -0.00710505 -0.00746096]]\n",
            "b2 = [[0.]]\n"
          ]
        }
      ]
    },
    {
      "cell_type": "markdown",
      "metadata": {
        "id": "GJVCITKfdeEz"
      },
      "source": [
        "## Forward Propagation"
      ]
    },
    {
      "cell_type": "code",
      "metadata": {
        "colab": {
          "base_uri": "https://localhost:8080/"
        },
        "id": "JGlCBXXsdQ6Y",
        "outputId": "8f204498-797f-41b5-8c02-4ef52db849a0"
      },
      "source": [
        "W1=parameters[\"W1\"]\n",
        "b1=parameters[\"b1\"]\n",
        "W2=parameters[\"W2\"]\n",
        "b2=parameters[\"b2\"]\n",
        "\n",
        "Z1=np.dot(W1,X)+b1\n",
        "A1=relu(Z1)\n",
        "Z2=np.dot(W2,A1)+b2\n",
        "A2=sigmoid(Z2)\n",
        "\n",
        "assert(A2.shape == (1, X.shape[1]))\n",
        "    \n",
        "forward_prop = {\"Z1\": Z1,\n",
        "                \"A1\": A1,\n",
        "                \"Z2\": Z2,\n",
        "                \"A2\": A2}\n",
        "print(\"A1 = \" + str(forward_prop[\"A1\"]))                \n",
        "print(\"A2 = \" + str(forward_prop[\"A2\"]))"
      ],
      "execution_count": 29,
      "outputs": [
        {
          "output_type": "stream",
          "name": "stdout",
          "text": [
            "A1 = [[0.         0.00449697 0.00614389]\n",
            " [0.02583321 0.         0.        ]\n",
            " [0.03426284 0.         0.        ]\n",
            " [0.00557141 0.         0.        ]]\n",
            "A2 = [[0.49988435 0.49999836 0.49999775]]\n"
          ]
        }
      ]
    },
    {
      "cell_type": "markdown",
      "metadata": {
        "id": "6-Q6wY6GfWZj"
      },
      "source": [
        "# Backward Propagation"
      ]
    },
    {
      "cell_type": "code",
      "metadata": {
        "id": "7g5njRCHfZcd",
        "colab": {
          "base_uri": "https://localhost:8080/"
        },
        "outputId": "2f1dc798-94a4-4816-cee7-9d076fe9a03a"
      },
      "source": [
        "m = X.shape[1]\n",
        "m"
      ],
      "execution_count": 23,
      "outputs": [
        {
          "output_type": "execute_result",
          "data": {
            "text/plain": [
              "3"
            ]
          },
          "metadata": {},
          "execution_count": 23
        }
      ]
    },
    {
      "cell_type": "code",
      "metadata": {
        "colab": {
          "base_uri": "https://localhost:8080/"
        },
        "id": "VU8qkbcDfzaz",
        "outputId": "e4137d6b-de08-4dfa-ef5c-57a71b9c3c7b"
      },
      "source": [
        "W1=parameters[\"W1\"]\n",
        "W2=parameters[\"W2\"]\n",
        "\n",
        "A1=forward_prop[\"A1\"]\n",
        "A2=forward_prop[\"A2\"]\n",
        "\n",
        "dZ2 = A2-Y\n",
        "dW2 = np.dot(dZ2,A1.T)/m\n",
        "db2 = np.sum(dZ2,axis=1,keepdims=True)/m\n",
        "dZ1 = np.dot(W2.T,dZ2)*(1 - np.power(A1, 2))\n",
        "dW1 = np.dot(dZ1,X.T)/m\n",
        "db1 = np.sum(dZ1,axis=1,keepdims=True)/m\n",
        "\n",
        "back_prop = { \"dW1\": dW1,\n",
        "              \"db1\": db1,\n",
        "              \"dW2\": dW2,\n",
        "              \"db2\": db2}\n",
        "\n",
        "print (\"dW1 = \"+ str(back_prop[\"dW1\"]))\n",
        "print (\"db1 = \"+ str(back_prop[\"db1\"]))\n",
        "print (\"dW2 = \"+ str(back_prop[\"dW2\"]))\n",
        "print (\"db2 = \"+ str(back_prop[\"db2\"]))"
      ],
      "execution_count": 26,
      "outputs": [
        {
          "output_type": "stream",
          "name": "stdout",
          "text": [
            "dW1 = [[ 1.41643527e-03 -4.74274329e-05]\n",
            " [ 6.66181804e-03 -2.23303365e-04]\n",
            " [ 6.88470857e-03 -2.30974891e-04]\n",
            " [ 7.22902609e-03 -2.42051967e-04]]\n",
            "db1 = [[0.00077911]\n",
            " [0.00366396]\n",
            " [0.00378629]\n",
            " [0.00397627]]\n",
            "dW2 = [[-0.00204805 -0.00095702 -0.0012693  -0.0002064 ]]\n",
            "db2 = [[-0.53294414]]\n"
          ]
        }
      ]
    },
    {
      "cell_type": "code",
      "metadata": {
        "id": "heLS_zsLf29L"
      },
      "source": [
        ""
      ],
      "execution_count": null,
      "outputs": []
    }
  ]
}